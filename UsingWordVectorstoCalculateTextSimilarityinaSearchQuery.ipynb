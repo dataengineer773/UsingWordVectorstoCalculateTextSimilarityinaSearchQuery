{
 "cells": [
  {
   "cell_type": "code",
   "execution_count": 1,
   "id": "34caaa79-153b-4d63-8d74-9f920aca9172",
   "metadata": {},
   "outputs": [],
   "source": [
    "# Load libraries\n",
    "import numpy as np\n",
    "from sklearn.feature_extraction.text import TfidfVectorizer\n",
    "from sklearn.metrics.pairwise import linear_kernel"
   ]
  },
  {
   "cell_type": "code",
   "execution_count": 2,
   "id": "a3d6ff07-0a5a-4d02-a529-1637ec4cd7d6",
   "metadata": {},
   "outputs": [],
   "source": [
    "# Create searchable text data\n",
    "text_data = np.array(['I love Brazil. Brazil!',\n",
    "'Sweden is best',\n",
    "'Germany beats both'])"
   ]
  },
  {
   "cell_type": "code",
   "execution_count": 3,
   "id": "9931b48e-40a4-4fb6-8d48-81235f05dcee",
   "metadata": {},
   "outputs": [],
   "source": [
    "# Create the tf-idf feature matrix\n",
    "tfidf = TfidfVectorizer()\n",
    "feature_matrix = tfidf.fit_transform(text_data)"
   ]
  },
  {
   "cell_type": "code",
   "execution_count": 4,
   "id": "90333a8d-ab01-4322-ae66-dd27601b3099",
   "metadata": {},
   "outputs": [],
   "source": [
    "# Create a search query and transform it into a tf-idf vector\n",
    "text = \"Brazil is the best\"\n",
    "vector = tfidf.transform([text])"
   ]
  },
  {
   "cell_type": "code",
   "execution_count": 5,
   "id": "6aa8ffc1-d563-4018-9d75-835e18503c59",
   "metadata": {},
   "outputs": [],
   "source": [
    "# Calculate the cosine similarities between the input vector and all other vectors\n",
    "cosine_similarities = linear_kernel(vector, feature_matrix).flatten()"
   ]
  },
  {
   "cell_type": "code",
   "execution_count": 6,
   "id": "806fbfcc-cb8f-4677-bbb6-76bb24e0867c",
   "metadata": {},
   "outputs": [],
   "source": [
    "# Get the index of the most relevent items in order\n",
    "related_doc_indicies = cosine_similarities.argsort()[:-10:-1]"
   ]
  },
  {
   "cell_type": "code",
   "execution_count": 7,
   "id": "64004b73-1b89-4225-a2a5-00af82ae242a",
   "metadata": {},
   "outputs": [
    {
     "name": "stdout",
     "output_type": "stream",
     "text": [
      "[(np.str_('Sweden is best'), np.float64(0.6666666666666666)), (np.str_('I love Brazil. Brazil!'), np.float64(0.5163977794943222)), (np.str_('Germany beats both'), np.float64(0.0))]\n"
     ]
    }
   ],
   "source": [
    "# Print the most similar texts to the search query along with the cosine similarity\n",
    "print([(text_data[i], cosine_similarities[i]) for i in related_doc_indicies])"
   ]
  },
  {
   "cell_type": "code",
   "execution_count": null,
   "id": "64eacf9d-d2a4-40e7-8065-602ed95f6586",
   "metadata": {},
   "outputs": [],
   "source": []
  }
 ],
 "metadata": {
  "kernelspec": {
   "display_name": "Python 3 (ipykernel)",
   "language": "python",
   "name": "python3"
  },
  "language_info": {
   "codemirror_mode": {
    "name": "ipython",
    "version": 3
   },
   "file_extension": ".py",
   "mimetype": "text/x-python",
   "name": "python",
   "nbconvert_exporter": "python",
   "pygments_lexer": "ipython3",
   "version": "3.12.3"
  }
 },
 "nbformat": 4,
 "nbformat_minor": 5
}
